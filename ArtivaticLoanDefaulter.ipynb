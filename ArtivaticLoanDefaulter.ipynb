{
 "cells": [
  {
   "cell_type": "markdown",
   "metadata": {
    "id": "UZsKYkk_6qP0"
   },
   "source": [
    "**Upload train and test data**"
   ]
  },
  {
   "cell_type": "code",
   "execution_count": null,
   "metadata": {
    "colab": {
     "base_uri": "https://localhost:8080/",
     "height": 161,
     "resources": {
      "http://localhost:8080/nbextensions/google.colab/files.js": {
       "data": "Ly8gQ29weXJpZ2h0IDIwMTcgR29vZ2xlIExMQwovLwovLyBMaWNlbnNlZCB1bmRlciB0aGUgQXBhY2hlIExpY2Vuc2UsIFZlcnNpb24gMi4wICh0aGUgIkxpY2Vuc2UiKTsKLy8geW91IG1heSBub3QgdXNlIHRoaXMgZmlsZSBleGNlcHQgaW4gY29tcGxpYW5jZSB3aXRoIHRoZSBMaWNlbnNlLgovLyBZb3UgbWF5IG9idGFpbiBhIGNvcHkgb2YgdGhlIExpY2Vuc2UgYXQKLy8KLy8gICAgICBodHRwOi8vd3d3LmFwYWNoZS5vcmcvbGljZW5zZXMvTElDRU5TRS0yLjAKLy8KLy8gVW5sZXNzIHJlcXVpcmVkIGJ5IGFwcGxpY2FibGUgbGF3IG9yIGFncmVlZCB0byBpbiB3cml0aW5nLCBzb2Z0d2FyZQovLyBkaXN0cmlidXRlZCB1bmRlciB0aGUgTGljZW5zZSBpcyBkaXN0cmlidXRlZCBvbiBhbiAiQVMgSVMiIEJBU0lTLAovLyBXSVRIT1VUIFdBUlJBTlRJRVMgT1IgQ09ORElUSU9OUyBPRiBBTlkgS0lORCwgZWl0aGVyIGV4cHJlc3Mgb3IgaW1wbGllZC4KLy8gU2VlIHRoZSBMaWNlbnNlIGZvciB0aGUgc3BlY2lmaWMgbGFuZ3VhZ2UgZ292ZXJuaW5nIHBlcm1pc3Npb25zIGFuZAovLyBsaW1pdGF0aW9ucyB1bmRlciB0aGUgTGljZW5zZS4KCi8qKgogKiBAZmlsZW92ZXJ2aWV3IEhlbHBlcnMgZm9yIGdvb2dsZS5jb2xhYiBQeXRob24gbW9kdWxlLgogKi8KKGZ1bmN0aW9uKHNjb3BlKSB7CmZ1bmN0aW9uIHNwYW4odGV4dCwgc3R5bGVBdHRyaWJ1dGVzID0ge30pIHsKICBjb25zdCBlbGVtZW50ID0gZG9jdW1lbnQuY3JlYXRlRWxlbWVudCgnc3BhbicpOwogIGVsZW1lbnQudGV4dENvbnRlbnQgPSB0ZXh0OwogIGZvciAoY29uc3Qga2V5IG9mIE9iamVjdC5rZXlzKHN0eWxlQXR0cmlidXRlcykpIHsKICAgIGVsZW1lbnQuc3R5bGVba2V5XSA9IHN0eWxlQXR0cmlidXRlc1trZXldOwogIH0KICByZXR1cm4gZWxlbWVudDsKfQoKLy8gTWF4IG51bWJlciBvZiBieXRlcyB3aGljaCB3aWxsIGJlIHVwbG9hZGVkIGF0IGEgdGltZS4KY29uc3QgTUFYX1BBWUxPQURfU0laRSA9IDEwMCAqIDEwMjQ7CgpmdW5jdGlvbiBfdXBsb2FkRmlsZXMoaW5wdXRJZCwgb3V0cHV0SWQpIHsKICBjb25zdCBzdGVwcyA9IHVwbG9hZEZpbGVzU3RlcChpbnB1dElkLCBvdXRwdXRJZCk7CiAgY29uc3Qgb3V0cHV0RWxlbWVudCA9IGRvY3VtZW50LmdldEVsZW1lbnRCeUlkKG91dHB1dElkKTsKICAvLyBDYWNoZSBzdGVwcyBvbiB0aGUgb3V0cHV0RWxlbWVudCB0byBtYWtlIGl0IGF2YWlsYWJsZSBmb3IgdGhlIG5leHQgY2FsbAogIC8vIHRvIHVwbG9hZEZpbGVzQ29udGludWUgZnJvbSBQeXRob24uCiAgb3V0cHV0RWxlbWVudC5zdGVwcyA9IHN0ZXBzOwoKICByZXR1cm4gX3VwbG9hZEZpbGVzQ29udGludWUob3V0cHV0SWQpOwp9CgovLyBUaGlzIGlzIHJvdWdobHkgYW4gYXN5bmMgZ2VuZXJhdG9yIChub3Qgc3VwcG9ydGVkIGluIHRoZSBicm93c2VyIHlldCksCi8vIHdoZXJlIHRoZXJlIGFyZSBtdWx0aXBsZSBhc3luY2hyb25vdXMgc3RlcHMgYW5kIHRoZSBQeXRob24gc2lkZSBpcyBnb2luZwovLyB0byBwb2xsIGZvciBjb21wbGV0aW9uIG9mIGVhY2ggc3RlcC4KLy8gVGhpcyB1c2VzIGEgUHJvbWlzZSB0byBibG9jayB0aGUgcHl0aG9uIHNpZGUgb24gY29tcGxldGlvbiBvZiBlYWNoIHN0ZXAsCi8vIHRoZW4gcGFzc2VzIHRoZSByZXN1bHQgb2YgdGhlIHByZXZpb3VzIHN0ZXAgYXMgdGhlIGlucHV0IHRvIHRoZSBuZXh0IHN0ZXAuCmZ1bmN0aW9uIF91cGxvYWRGaWxlc0NvbnRpbnVlKG91dHB1dElkKSB7CiAgY29uc3Qgb3V0cHV0RWxlbWVudCA9IGRvY3VtZW50LmdldEVsZW1lbnRCeUlkKG91dHB1dElkKTsKICBjb25zdCBzdGVwcyA9IG91dHB1dEVsZW1lbnQuc3RlcHM7CgogIGNvbnN0IG5leHQgPSBzdGVwcy5uZXh0KG91dHB1dEVsZW1lbnQubGFzdFByb21pc2VWYWx1ZSk7CiAgcmV0dXJuIFByb21pc2UucmVzb2x2ZShuZXh0LnZhbHVlLnByb21pc2UpLnRoZW4oKHZhbHVlKSA9PiB7CiAgICAvLyBDYWNoZSB0aGUgbGFzdCBwcm9taXNlIHZhbHVlIHRvIG1ha2UgaXQgYXZhaWxhYmxlIHRvIHRoZSBuZXh0CiAgICAvLyBzdGVwIG9mIHRoZSBnZW5lcmF0b3IuCiAgICBvdXRwdXRFbGVtZW50Lmxhc3RQcm9taXNlVmFsdWUgPSB2YWx1ZTsKICAgIHJldHVybiBuZXh0LnZhbHVlLnJlc3BvbnNlOwogIH0pOwp9CgovKioKICogR2VuZXJhdG9yIGZ1bmN0aW9uIHdoaWNoIGlzIGNhbGxlZCBiZXR3ZWVuIGVhY2ggYXN5bmMgc3RlcCBvZiB0aGUgdXBsb2FkCiAqIHByb2Nlc3MuCiAqIEBwYXJhbSB7c3RyaW5nfSBpbnB1dElkIEVsZW1lbnQgSUQgb2YgdGhlIGlucHV0IGZpbGUgcGlja2VyIGVsZW1lbnQuCiAqIEBwYXJhbSB7c3RyaW5nfSBvdXRwdXRJZCBFbGVtZW50IElEIG9mIHRoZSBvdXRwdXQgZGlzcGxheS4KICogQHJldHVybiB7IUl0ZXJhYmxlPCFPYmplY3Q+fSBJdGVyYWJsZSBvZiBuZXh0IHN0ZXBzLgogKi8KZnVuY3Rpb24qIHVwbG9hZEZpbGVzU3RlcChpbnB1dElkLCBvdXRwdXRJZCkgewogIGNvbnN0IGlucHV0RWxlbWVudCA9IGRvY3VtZW50LmdldEVsZW1lbnRCeUlkKGlucHV0SWQpOwogIGlucHV0RWxlbWVudC5kaXNhYmxlZCA9IGZhbHNlOwoKICBjb25zdCBvdXRwdXRFbGVtZW50ID0gZG9jdW1lbnQuZ2V0RWxlbWVudEJ5SWQob3V0cHV0SWQpOwogIG91dHB1dEVsZW1lbnQuaW5uZXJIVE1MID0gJyc7CgogIGNvbnN0IHBpY2tlZFByb21pc2UgPSBuZXcgUHJvbWlzZSgocmVzb2x2ZSkgPT4gewogICAgaW5wdXRFbGVtZW50LmFkZEV2ZW50TGlzdGVuZXIoJ2NoYW5nZScsIChlKSA9PiB7CiAgICAgIHJlc29sdmUoZS50YXJnZXQuZmlsZXMpOwogICAgfSk7CiAgfSk7CgogIGNvbnN0IGNhbmNlbCA9IGRvY3VtZW50LmNyZWF0ZUVsZW1lbnQoJ2J1dHRvbicpOwogIGlucHV0RWxlbWVudC5wYXJlbnRFbGVtZW50LmFwcGVuZENoaWxkKGNhbmNlbCk7CiAgY2FuY2VsLnRleHRDb250ZW50ID0gJ0NhbmNlbCB1cGxvYWQnOwogIGNvbnN0IGNhbmNlbFByb21pc2UgPSBuZXcgUHJvbWlzZSgocmVzb2x2ZSkgPT4gewogICAgY2FuY2VsLm9uY2xpY2sgPSAoKSA9PiB7CiAgICAgIHJlc29sdmUobnVsbCk7CiAgICB9OwogIH0pOwoKICAvLyBXYWl0IGZvciB0aGUgdXNlciB0byBwaWNrIHRoZSBmaWxlcy4KICBjb25zdCBmaWxlcyA9IHlpZWxkIHsKICAgIHByb21pc2U6IFByb21pc2UucmFjZShbcGlja2VkUHJvbWlzZSwgY2FuY2VsUHJvbWlzZV0pLAogICAgcmVzcG9uc2U6IHsKICAgICAgYWN0aW9uOiAnc3RhcnRpbmcnLAogICAgfQogIH07CgogIGNhbmNlbC5yZW1vdmUoKTsKCiAgLy8gRGlzYWJsZSB0aGUgaW5wdXQgZWxlbWVudCBzaW5jZSBmdXJ0aGVyIHBpY2tzIGFyZSBub3QgYWxsb3dlZC4KICBpbnB1dEVsZW1lbnQuZGlzYWJsZWQgPSB0cnVlOwoKICBpZiAoIWZpbGVzKSB7CiAgICByZXR1cm4gewogICAgICByZXNwb25zZTogewogICAgICAgIGFjdGlvbjogJ2NvbXBsZXRlJywKICAgICAgfQogICAgfTsKICB9CgogIGZvciAoY29uc3QgZmlsZSBvZiBmaWxlcykgewogICAgY29uc3QgbGkgPSBkb2N1bWVudC5jcmVhdGVFbGVtZW50KCdsaScpOwogICAgbGkuYXBwZW5kKHNwYW4oZmlsZS5uYW1lLCB7Zm9udFdlaWdodDogJ2JvbGQnfSkpOwogICAgbGkuYXBwZW5kKHNwYW4oCiAgICAgICAgYCgke2ZpbGUudHlwZSB8fCAnbi9hJ30pIC0gJHtmaWxlLnNpemV9IGJ5dGVzLCBgICsKICAgICAgICBgbGFzdCBtb2RpZmllZDogJHsKICAgICAgICAgICAgZmlsZS5sYXN0TW9kaWZpZWREYXRlID8gZmlsZS5sYXN0TW9kaWZpZWREYXRlLnRvTG9jYWxlRGF0ZVN0cmluZygpIDoKICAgICAgICAgICAgICAgICAgICAgICAgICAgICAgICAgICAgJ24vYSd9IC0gYCkpOwogICAgY29uc3QgcGVyY2VudCA9IHNwYW4oJzAlIGRvbmUnKTsKICAgIGxpLmFwcGVuZENoaWxkKHBlcmNlbnQpOwoKICAgIG91dHB1dEVsZW1lbnQuYXBwZW5kQ2hpbGQobGkpOwoKICAgIGNvbnN0IGZpbGVEYXRhUHJvbWlzZSA9IG5ldyBQcm9taXNlKChyZXNvbHZlKSA9PiB7CiAgICAgIGNvbnN0IHJlYWRlciA9IG5ldyBGaWxlUmVhZGVyKCk7CiAgICAgIHJlYWRlci5vbmxvYWQgPSAoZSkgPT4gewogICAgICAgIHJlc29sdmUoZS50YXJnZXQucmVzdWx0KTsKICAgICAgfTsKICAgICAgcmVhZGVyLnJlYWRBc0FycmF5QnVmZmVyKGZpbGUpOwogICAgfSk7CiAgICAvLyBXYWl0IGZvciB0aGUgZGF0YSB0byBiZSByZWFkeS4KICAgIGxldCBmaWxlRGF0YSA9IHlpZWxkIHsKICAgICAgcHJvbWlzZTogZmlsZURhdGFQcm9taXNlLAogICAgICByZXNwb25zZTogewogICAgICAgIGFjdGlvbjogJ2NvbnRpbnVlJywKICAgICAgfQogICAgfTsKCiAgICAvLyBVc2UgYSBjaHVua2VkIHNlbmRpbmcgdG8gYXZvaWQgbWVzc2FnZSBzaXplIGxpbWl0cy4gU2VlIGIvNjIxMTU2NjAuCiAgICBsZXQgcG9zaXRpb24gPSAwOwogICAgd2hpbGUgKHBvc2l0aW9uIDwgZmlsZURhdGEuYnl0ZUxlbmd0aCkgewogICAgICBjb25zdCBsZW5ndGggPSBNYXRoLm1pbihmaWxlRGF0YS5ieXRlTGVuZ3RoIC0gcG9zaXRpb24sIE1BWF9QQVlMT0FEX1NJWkUpOwogICAgICBjb25zdCBjaHVuayA9IG5ldyBVaW50OEFycmF5KGZpbGVEYXRhLCBwb3NpdGlvbiwgbGVuZ3RoKTsKICAgICAgcG9zaXRpb24gKz0gbGVuZ3RoOwoKICAgICAgY29uc3QgYmFzZTY0ID0gYnRvYShTdHJpbmcuZnJvbUNoYXJDb2RlLmFwcGx5KG51bGwsIGNodW5rKSk7CiAgICAgIHlpZWxkIHsKICAgICAgICByZXNwb25zZTogewogICAgICAgICAgYWN0aW9uOiAnYXBwZW5kJywKICAgICAgICAgIGZpbGU6IGZpbGUubmFtZSwKICAgICAgICAgIGRhdGE6IGJhc2U2NCwKICAgICAgICB9LAogICAgICB9OwogICAgICBwZXJjZW50LnRleHRDb250ZW50ID0KICAgICAgICAgIGAke01hdGgucm91bmQoKHBvc2l0aW9uIC8gZmlsZURhdGEuYnl0ZUxlbmd0aCkgKiAxMDApfSUgZG9uZWA7CiAgICB9CiAgfQoKICAvLyBBbGwgZG9uZS4KICB5aWVsZCB7CiAgICByZXNwb25zZTogewogICAgICBhY3Rpb246ICdjb21wbGV0ZScsCiAgICB9CiAgfTsKfQoKc2NvcGUuZ29vZ2xlID0gc2NvcGUuZ29vZ2xlIHx8IHt9OwpzY29wZS5nb29nbGUuY29sYWIgPSBzY29wZS5nb29nbGUuY29sYWIgfHwge307CnNjb3BlLmdvb2dsZS5jb2xhYi5fZmlsZXMgPSB7CiAgX3VwbG9hZEZpbGVzLAogIF91cGxvYWRGaWxlc0NvbnRpbnVlLAp9Owp9KShzZWxmKTsK",
       "headers": [
        [
         "content-type",
         "application/javascript"
        ]
       ],
       "ok": true,
       "status": 200,
       "status_text": ""
      }
     }
    },
    "id": "NCgA3MfS6UNC",
    "outputId": "29c33364-ecd9-4877-f3cd-1d22ff5e1bb9"
   },
   "outputs": [],
   "source": [
    "from google.colab import files #upload the data\n",
    "train = files.upload()\n",
    "test = files.upload()"
   ]
  },
  {
   "cell_type": "markdown",
   "metadata": {
    "id": "0Zc-HMuf634J"
   },
   "source": [
    "**Import all the required packages**"
   ]
  },
  {
   "cell_type": "code",
   "execution_count": null,
   "metadata": {
    "colab": {
     "base_uri": "https://localhost:8080/"
    },
    "id": "bmmS_hgJ69ZS",
    "outputId": "3ebda3c9-b762-466b-f805-981cae14a969"
   },
   "outputs": [],
   "source": [
    "import pandas as pd\n",
    "import numpy as np\n",
    "import seaborn as sns\n",
    "import matplotlib.pyplot as plt\n",
    "import io\n",
    "from sklearn.model_selection import train_test_split\n",
    "from sklearn.linear_model import LogisticRegression\n",
    "from sklearn.metrics import accuracy_score\n",
    "from imblearn.over_sampling import SMOTE\n",
    "from sklearn.metrics import roc_auc_score"
   ]
  },
  {
   "cell_type": "markdown",
   "metadata": {
    "id": "KoUELgXc7nJK"
   },
   "source": [
    "**Data Preprocessing**"
   ]
  },
  {
   "cell_type": "markdown",
   "metadata": {
    "id": "YiiM9a378QEm"
   },
   "source": [
    "Cleaing the training data"
   ]
  },
  {
   "cell_type": "code",
   "execution_count": null,
   "metadata": {
    "colab": {
     "base_uri": "https://localhost:8080/"
    },
    "id": "AF-3WAml7qxk",
    "outputId": "3294ff57-b0e8-44b1-8a4b-a4451b424d61"
   },
   "outputs": [],
   "source": [
    "train = pd.read_csv(io.BytesIO(train['train_indessa.csv']))\n",
    "\n",
    "print(train.dtypes)\n",
    "print(\"\")\n",
    "print(train.shape)\n",
    "print(\"\")\n",
    "print(train['loan_status'].value_counts())\n",
    "print(\"\")\n",
    "print(train.isnull().sum())"
   ]
  },
  {
   "cell_type": "code",
   "execution_count": null,
   "metadata": {
    "colab": {
     "base_uri": "https://localhost:8080/"
    },
    "id": "MFHp84AM8Twb",
    "outputId": "11f3b95a-3292-4773-edd1-e055027c261f"
   },
   "outputs": [],
   "source": [
    "half_count = len(train) / 2\n",
    "t1 = train.dropna(thresh=half_count,axis=1) # Drop any column with more than 50% missing values\n",
    "t1.isnull().sum()"
   ]
  },
  {
   "cell_type": "code",
   "execution_count": null,
   "metadata": {
    "colab": {
     "base_uri": "https://localhost:8080/"
    },
    "id": "9IXb4c_e8enc",
    "outputId": "201d1ebc-23fb-4d01-a067-900d3d4a9f21"
   },
   "outputs": [],
   "source": [
    "drop_list = ['member_id','funded_amnt','funded_amnt_inv','batch_enrolled','int_rate','total_rec_int','total_rec_late_fee','last_week_pay','collections_12_mths_ex_med','emp_length','tot_coll_amt','tot_cur_bal','total_rev_hi_lim','sub_grade','pymnt_plan','emp_title','zip_code','application_type','recoveries','collection_recovery_fee']\n",
    "t1 = t1.drop(drop_list,axis=1) # Drop columns that give futuristic information or are irrelevant to the model or give redundant information\n",
    "print(t1.isnull().sum())\n",
    "print(\"\")\n",
    "print(t1.shape)\n",
    "print(\"\")\n",
    "print(t1['loan_status'].value_counts())\n",
    "print(\"\")"
   ]
  },
  {
   "cell_type": "code",
   "execution_count": null,
   "metadata": {
    "colab": {
     "base_uri": "https://localhost:8080/"
    },
    "id": "MUgLbOSS8s4P",
    "outputId": "407330a4-9d5b-4ac6-9455-fd0b5ad932d5"
   },
   "outputs": [],
   "source": [
    "t1 = t1.dropna() # Drop rows that have missing values\n",
    "\n",
    "print(t1.isnull().sum())\n",
    "print(\"\")\n",
    "print(t1.shape)\n",
    "print(\"\")\n",
    "print(t1['loan_status'].value_counts())\n",
    "print(\"\")\n",
    "print(t1.dtypes)\n",
    "print(\"\")"
   ]
  },
  {
   "cell_type": "markdown",
   "metadata": {
    "id": "VOggSFKg-CXc"
   },
   "source": [
    "Save the cleaned data to csv (if needed)"
   ]
  },
  {
   "cell_type": "code",
   "execution_count": null,
   "metadata": {
    "colab": {
     "base_uri": "https://localhost:8080/",
     "height": 17
    },
    "id": "XI1QLnq6BGn6",
    "outputId": "993f16b4-f618-445c-d9f2-e8a32545df5f"
   },
   "outputs": [],
   "source": [
    "t1.to_csv(\"filtered.csv\",index=False)\n",
    "files.download(\"filtered.csv\")"
   ]
  },
  {
   "cell_type": "markdown",
   "metadata": {
    "id": "DjfGP4Ax-ui3"
   },
   "source": [
    "Preparing train data for model training"
   ]
  },
  {
   "cell_type": "code",
   "execution_count": null,
   "metadata": {
    "colab": {
     "base_uri": "https://localhost:8080/"
    },
    "id": "aDRqi7kB-tni",
    "outputId": "6a8b6747-6b9e-4a32-c4d7-9351cc8ad88d"
   },
   "outputs": [],
   "source": [
    "filtered_loans = t1.copy()\n",
    "\n",
    "drop_cols = ['addr_state','title']\n",
    "filtered_loans = filtered_loans.drop(drop_cols,axis=1)\n",
    "\n",
    "mapping_dict = {\n",
    "\"grade\":{\n",
    "\"A\": 1,\n",
    "\"B\": 2,\n",
    "\"C\": 3,\n",
    "\"D\": 4,\n",
    "\"E\": 5,\n",
    "\"F\": 6,\n",
    "\"G\": 7\n",
    "},\n",
    "\"term\":{\n",
    "    \"36 months\":1,\n",
    "    \"60 months\":2\n",
    "},\n",
    "\"verification_status\":{\n",
    "    \"Source Verified\":1,\n",
    "    \"Verified\":1,\n",
    "    \"Not Verified\":2\n",
    "},\n",
    "\"initial_list_status\":{\n",
    "    \"f\":0,\n",
    "    \"w\":1\n",
    "}\n",
    "}\n",
    "filtered_loans = filtered_loans.replace(mapping_dict)\n",
    "filtered_loans[['grade']].head()\n",
    "\n",
    "nominal_columns = [\"home_ownership\", \"purpose\"]\n",
    "dummy_df = pd.get_dummies(filtered_loans[nominal_columns])\n",
    "filtered_loans = pd.concat([filtered_loans, dummy_df], axis=1)\n",
    "filtered_loans = filtered_loans.drop(nominal_columns, axis=1)\n",
    "\n",
    "print(filtered_loans.shape)\n",
    "print(\"\")\n",
    "print(filtered_loans['loan_status'].value_counts())\n",
    "print(\"\")\n",
    "print(filtered_loans.dtypes)"
   ]
  },
  {
   "cell_type": "markdown",
   "metadata": {
    "id": "bxvRf3K3_wqS"
   },
   "source": [
    "Save the final data for training"
   ]
  },
  {
   "cell_type": "code",
   "execution_count": null,
   "metadata": {
    "colab": {
     "base_uri": "https://localhost:8080/",
     "height": 17
    },
    "id": "khVdpBRC_dT4",
    "outputId": "30b5221a-971a-41d2-b45f-58d4b9d50d1b"
   },
   "outputs": [],
   "source": [
    "filtered_loans.to_csv(\"train.csv\",index=False)\n",
    "files.download(\"train.csv\")"
   ]
  },
  {
   "cell_type": "markdown",
   "metadata": {
    "id": "DWF7lMvf9xQp"
   },
   "source": [
    "Cleaning the test data"
   ]
  },
  {
   "cell_type": "code",
   "execution_count": null,
   "metadata": {
    "colab": {
     "base_uri": "https://localhost:8080/"
    },
    "id": "J6PQTkVC7w09",
    "outputId": "fe2213d4-973b-4e5e-c907-700f2053db0e"
   },
   "outputs": [],
   "source": [
    "test = pd.read_csv(io.BytesIO(test['test_indessa.csv']))\n",
    "\n",
    "print(test.dtypes)\n",
    "print(\"\")\n",
    "print(test.shape)\n",
    "print(\"\")\n",
    "print(test.isnull().sum())"
   ]
  },
  {
   "cell_type": "code",
   "execution_count": null,
   "metadata": {
    "id": "RxfkeqHdA9wO"
   },
   "outputs": [],
   "source": [
    "drop_list = ['funded_amnt','funded_amnt_inv','batch_enrolled','int_rate','sub_grade','emp_title','pymnt_plan','desc','title','zip_code','addr_state','mths_since_last_delinq','mths_since_last_record','total_rec_int','total_rec_late_fee','recoveries','collection_recovery_fee','collections_12_mths_ex_med','mths_since_last_major_derog','application_type','verification_status_joint','last_week_pay','emp_length','tot_coll_amt','tot_cur_bal','total_rev_hi_lim']\n",
    "test = test.drop(drop_list,axis=1)\n",
    "\n",
    "test = test.dropna()\n",
    "\n",
    "mapping_dict = {\n",
    "\"grade\":{\n",
    "\"A\": 1,\n",
    "\"B\": 2,\n",
    "\"C\": 3,\n",
    "\"D\": 4,\n",
    "\"E\": 5,\n",
    "\"F\": 6,\n",
    "\"G\": 7\n",
    "},\n",
    "\"term\":{\n",
    "    \"36 months\":1,\n",
    "    \"60 months\":2\n",
    "},\n",
    "\"verification_status\":{\n",
    "    \"Source Verified\":1,\n",
    "    \"Verified\":1,\n",
    "    \"Not Verified\":2\n",
    "},\n",
    "\"initial_list_status\":{\n",
    "    \"f\":0,\n",
    "    \"w\":1\n",
    "}\n",
    "}\n",
    "test = test.replace(mapping_dict)\n",
    "test[['grade']].head()\n",
    "\n",
    "nominal_columns = [\"home_ownership\", \"purpose\"]\n",
    "dummy_df = pd.get_dummies(test[nominal_columns])\n",
    "test = pd.concat([test, dummy_df], axis=1)\n",
    "test = test.drop(nominal_columns, axis=1)"
   ]
  },
  {
   "cell_type": "code",
   "execution_count": null,
   "metadata": {
    "colab": {
     "base_uri": "https://localhost:8080/"
    },
    "id": "SFBRcXjbMg8N",
    "outputId": "2f1c83e4-5099-466a-dff4-c96e5c76b7e9"
   },
   "outputs": [],
   "source": [
    "idx = 16\n",
    "new_col = np.empty(354736)\n",
    "new_col.fill(0)\n",
    "test.insert(loc=idx, column= \"home_ownership_ANY\", value=new_col)\n",
    "\n",
    "print(test.head)"
   ]
  },
  {
   "cell_type": "markdown",
   "metadata": {
    "id": "VEt7lzRBBO-R"
   },
   "source": [
    "Save the test data"
   ]
  },
  {
   "cell_type": "code",
   "execution_count": null,
   "metadata": {
    "colab": {
     "base_uri": "https://localhost:8080/",
     "height": 17
    },
    "id": "WmLNgwTjBRQp",
    "outputId": "b1df3e26-3c3f-4c46-8a47-0d641d255345"
   },
   "outputs": [],
   "source": [
    "test.to_csv(\"test.csv\",index=False)\n",
    "files.download(\"test.csv\")"
   ]
  },
  {
   "cell_type": "markdown",
   "metadata": {
    "id": "m683upz8AM0s"
   },
   "source": [
    "**Training the model**"
   ]
  },
  {
   "cell_type": "code",
   "execution_count": null,
   "metadata": {
    "id": "pnB8NFR0AQTf"
   },
   "outputs": [],
   "source": [
    "filtered_loans.rename(columns={\"loan_status\": \"appstat\"}, inplace=True)\n",
    "\n",
    "f1 = filtered_loans.copy()\n",
    "\n",
    "y = filtered_loans.appstat\n",
    "\n",
    "filtered_loans.drop(columns = 'appstat', inplace=True)\n",
    "\n",
    "X = filtered_loans.copy()"
   ]
  },
  {
   "cell_type": "markdown",
   "metadata": {
    "id": "_BHtC9EMAUUC"
   },
   "source": [
    "Over Sampling the data "
   ]
  },
  {
   "cell_type": "code",
   "execution_count": null,
   "metadata": {
    "colab": {
     "base_uri": "https://localhost:8080/"
    },
    "id": "XbMkoz4-Amzt",
    "outputId": "e6b31e3d-47db-409c-e825-d54fad1f0df1"
   },
   "outputs": [],
   "source": [
    "smote = SMOTE()\n",
    "\n",
    "# fit predictor and target variable\n",
    "x_smote, y_smote = smote.fit_resample(X, y)\n",
    "\n",
    "#print('Original dataset shape', Counter(y))\n",
    "#print('Resample dataset shape', Counter(y_ros))\n",
    "\n",
    "print(X.shape)\n",
    "print(x_smote.shape)\n",
    "print(y.shape)\n",
    "print(y_smote.shape)"
   ]
  },
  {
   "cell_type": "markdown",
   "metadata": {
    "id": "S-tqaFUvAzVc"
   },
   "source": [
    "Model"
   ]
  },
  {
   "cell_type": "code",
   "execution_count": null,
   "metadata": {
    "colab": {
     "base_uri": "https://localhost:8080/"
    },
    "id": "28Ee5_KOA0Yz",
    "outputId": "8540a684-a38f-420f-9b29-749bdd83b668"
   },
   "outputs": [],
   "source": [
    "x_train, x_cv, y_train, y_cv = train_test_split(x_smote,y_smote, test_size=0.2, random_state=4)\n",
    "\n",
    "model = LogisticRegression()\n",
    "model.fit(x_train, y_train)\n",
    "#LogisticRegression()\n",
    "\n",
    "\n",
    "print(roc_auc_score(y, model.predict_proba(X)[:, 1]))\n",
    "\n",
    "print(roc_auc_score(y, model.decision_function(X)))\n",
    "\n",
    "pred_cv = model.predict(x_cv)\n",
    "print(accuracy_score(y_cv,pred_cv))"
   ]
  },
  {
   "cell_type": "markdown",
   "metadata": {
    "id": "lp7YUFbMPEfb"
   },
   "source": [
    "Test data prediction"
   ]
  },
  {
   "cell_type": "code",
   "execution_count": null,
   "metadata": {
    "colab": {
     "base_uri": "https://localhost:8080/"
    },
    "id": "0-F_wG90PHem",
    "outputId": "f4a025df-0eb2-4f7a-af4c-69dc5c0d683b"
   },
   "outputs": [],
   "source": [
    "test.rename(columns={\"member_id\": \"mid\"}, inplace=True)\n",
    "\n",
    "t2 = test.copy()\n",
    "\n",
    "mid = test.mid\n",
    "\n",
    "test.drop(columns = 'mid', inplace=True)\n",
    "\n",
    "pred = model.predict(test)\n",
    "\n",
    "for i in pred:\n",
    "  print(i)"
   ]
  },
  {
   "cell_type": "markdown",
   "metadata": {
    "id": "9z5k4oq_AeIy"
   },
   "source": [
    "**Creating the output file**"
   ]
  },
  {
   "cell_type": "code",
   "execution_count": null,
   "metadata": {
    "colab": {
     "base_uri": "https://localhost:8080/",
     "height": 419
    },
    "id": "ceaNTr2xn20m",
    "outputId": "404148a3-73ca-4c45-9cde-d61f6da7ad36"
   },
   "outputs": [],
   "source": [
    "n1 = 'member_id'\n",
    "n2 = 'loan_status'\n",
    "\n",
    "data = {n1 : mid, n2 : pred}\n",
    "\n",
    "df = pd.DataFrame(data)\n",
    "\n",
    "df"
   ]
  },
  {
   "cell_type": "code",
   "execution_count": null,
   "metadata": {
    "colab": {
     "base_uri": "https://localhost:8080/",
     "height": 17
    },
    "id": "hxR6Dl_ctSfq",
    "outputId": "779d61bc-17e9-47ee-f60d-06afb607fca9"
   },
   "outputs": [],
   "source": [
    "df.to_csv(\"output.csv\",index=False)\n",
    "files.download(\"output.csv\")"
   ]
  },
  {
   "cell_type": "code",
   "execution_count": null,
   "metadata": {
    "colab": {
     "base_uri": "https://localhost:8080/"
    },
    "id": "EQRA3OWBtq7l",
    "outputId": "3c1aa9d0-b2a0-4d40-cc37-27e8ac6967d6"
   },
   "outputs": [],
   "source": [
    "print(df['loan_status'].value_counts())"
   ]
  }
 ],
 "metadata": {
  "colab": {
   "name": "FinalArtivatic.ipynb",
   "provenance": []
  },
  "kernelspec": {
   "display_name": "Python 3",
   "language": "python",
   "name": "python3"
  },
  "language_info": {
   "codemirror_mode": {
    "name": "ipython",
    "version": 3
   },
   "file_extension": ".py",
   "mimetype": "text/x-python",
   "name": "python",
   "nbconvert_exporter": "python",
   "pygments_lexer": "ipython3",
   "version": "3.8.5"
  }
 },
 "nbformat": 4,
 "nbformat_minor": 1
}
